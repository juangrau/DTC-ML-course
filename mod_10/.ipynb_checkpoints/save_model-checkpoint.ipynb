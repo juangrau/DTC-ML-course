{
 "cells": [
  {
   "cell_type": "code",
   "execution_count": 2,
   "id": "b7d818cb-aef0-491f-af20-96fb0e67502d",
   "metadata": {},
   "outputs": [],
   "source": [
    "import tensorflow as tf\n",
    "from tensorflow import keras"
   ]
  },
  {
   "cell_type": "code",
   "execution_count": 3,
   "id": "59af56d4-e3f2-4455-9fb0-4ef0d546d434",
   "metadata": {},
   "outputs": [
    {
     "data": {
      "text/plain": [
       "'2.17.0'"
      ]
     },
     "execution_count": 3,
     "metadata": {},
     "output_type": "execute_result"
    }
   ],
   "source": [
    "tf.__version__"
   ]
  },
  {
   "cell_type": "code",
   "execution_count": 4,
   "id": "baba0a19-cc9a-496b-811f-0ba0c9376bd2",
   "metadata": {},
   "outputs": [
    {
     "name": "stderr",
     "output_type": "stream",
     "text": [
      "2025-01-09 17:01:17.276126: E external/local_xla/xla/stream_executor/cuda/cuda_driver.cc:266] failed call to cuInit: CUDA_ERROR_NO_DEVICE: no CUDA-capable device is detected\n"
     ]
    }
   ],
   "source": [
    "model = keras.models.load_model('./terrain_model.h5.keras')"
   ]
  },
  {
   "cell_type": "code",
   "execution_count": 6,
   "id": "b8e63274-d6eb-466b-acc9-2f168084e749",
   "metadata": {
    "scrolled": true
   },
   "outputs": [
    {
     "name": "stdout",
     "output_type": "stream",
     "text": [
      "INFO:tensorflow:Assets written to: terrain_model/assets\n"
     ]
    },
    {
     "name": "stderr",
     "output_type": "stream",
     "text": [
      "INFO:tensorflow:Assets written to: terrain_model/assets\n"
     ]
    }
   ],
   "source": [
    "tf.saved_model.save(model, 'terrain_model')"
   ]
  },
  {
   "cell_type": "code",
   "execution_count": 7,
   "id": "ea232949-ff64-4957-8c7e-73fea73bb1c7",
   "metadata": {},
   "outputs": [
    {
     "name": "stdout",
     "output_type": "stream",
     "text": [
      "\u001b[34;42mterrain_model\u001b[0m\n",
      "├── \u001b[34;42massets\u001b[0m\n",
      "├── \u001b[01;32mfingerprint.pb\u001b[0m\n",
      "├── \u001b[01;32msaved_model.pb\u001b[0m\n",
      "└── \u001b[34;42mvariables\u001b[0m\n",
      "    ├── \u001b[01;32mvariables.data-00000-of-00001\u001b[0m\n",
      "    └── \u001b[01;32mvariables.index\u001b[0m\n",
      "\n",
      "3 directories, 4 files\n"
     ]
    }
   ],
   "source": [
    "!tree terrain_model"
   ]
  }
 ],
 "metadata": {
  "kernelspec": {
   "display_name": "Python (python3.10)",
   "language": "python",
   "name": "python3.10"
  },
  "language_info": {
   "codemirror_mode": {
    "name": "ipython",
    "version": 3
   },
   "file_extension": ".py",
   "mimetype": "text/x-python",
   "name": "python",
   "nbconvert_exporter": "python",
   "pygments_lexer": "ipython3",
   "version": "3.10.12"
  }
 },
 "nbformat": 4,
 "nbformat_minor": 5
}
