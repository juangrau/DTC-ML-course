{
 "cells": [
  {
   "cell_type": "markdown",
   "metadata": {},
   "source": [
    "# Notebook for testing connection to Tensorflow-Serving"
   ]
  },
  {
   "cell_type": "code",
   "execution_count": 22,
   "metadata": {},
   "outputs": [
    {
     "name": "stdout",
     "output_type": "stream",
     "text": [
      "Collecting grpcio==1.43.0\n",
      "  Downloading grpcio-1.43.0-cp310-cp310-manylinux_2_17_x86_64.manylinux2014_x86_64.whl.metadata (4.0 kB)\n",
      "Collecting tensorflow-serving-api==2.11.0\n",
      "  Downloading tensorflow_serving_api-2.11.0-py2.py3-none-any.whl.metadata (1.8 kB)\n",
      "Requirement already satisfied: six>=1.5.2 in /home/jgrau/anaconda3/envs/python3.10/lib/python3.10/site-packages (from grpcio==1.43.0) (1.16.0)\n",
      "Requirement already satisfied: protobuf<3.20,>=3.9.2 in /home/jgrau/anaconda3/envs/python3.10/lib/python3.10/site-packages (from tensorflow-serving-api==2.11.0) (3.19.6)\n",
      "Requirement already satisfied: tensorflow<3,>=2.11.0 in /home/jgrau/anaconda3/envs/python3.10/lib/python3.10/site-packages (from tensorflow-serving-api==2.11.0) (2.11.1)\n",
      "Requirement already satisfied: absl-py>=1.0.0 in /home/jgrau/anaconda3/envs/python3.10/lib/python3.10/site-packages (from tensorflow<3,>=2.11.0->tensorflow-serving-api==2.11.0) (2.1.0)\n",
      "Requirement already satisfied: astunparse>=1.6.0 in /home/jgrau/anaconda3/envs/python3.10/lib/python3.10/site-packages (from tensorflow<3,>=2.11.0->tensorflow-serving-api==2.11.0) (1.6.3)\n",
      "Requirement already satisfied: flatbuffers>=2.0 in /home/jgrau/anaconda3/envs/python3.10/lib/python3.10/site-packages (from tensorflow<3,>=2.11.0->tensorflow-serving-api==2.11.0) (24.3.25)\n",
      "Requirement already satisfied: gast<=0.4.0,>=0.2.1 in /home/jgrau/anaconda3/envs/python3.10/lib/python3.10/site-packages (from tensorflow<3,>=2.11.0->tensorflow-serving-api==2.11.0) (0.4.0)\n",
      "Requirement already satisfied: google-pasta>=0.1.1 in /home/jgrau/anaconda3/envs/python3.10/lib/python3.10/site-packages (from tensorflow<3,>=2.11.0->tensorflow-serving-api==2.11.0) (0.2.0)\n",
      "Requirement already satisfied: h5py>=2.9.0 in /home/jgrau/anaconda3/envs/python3.10/lib/python3.10/site-packages (from tensorflow<3,>=2.11.0->tensorflow-serving-api==2.11.0) (3.12.1)\n",
      "Requirement already satisfied: keras<2.12,>=2.11.0 in /home/jgrau/anaconda3/envs/python3.10/lib/python3.10/site-packages (from tensorflow<3,>=2.11.0->tensorflow-serving-api==2.11.0) (2.11.0)\n",
      "Requirement already satisfied: libclang>=13.0.0 in /home/jgrau/anaconda3/envs/python3.10/lib/python3.10/site-packages (from tensorflow<3,>=2.11.0->tensorflow-serving-api==2.11.0) (18.1.1)\n",
      "Requirement already satisfied: numpy>=1.20 in /home/jgrau/anaconda3/envs/python3.10/lib/python3.10/site-packages (from tensorflow<3,>=2.11.0->tensorflow-serving-api==2.11.0) (1.26.4)\n",
      "Requirement already satisfied: opt-einsum>=2.3.2 in /home/jgrau/anaconda3/envs/python3.10/lib/python3.10/site-packages (from tensorflow<3,>=2.11.0->tensorflow-serving-api==2.11.0) (3.3.0)\n",
      "Requirement already satisfied: packaging in /home/jgrau/anaconda3/envs/python3.10/lib/python3.10/site-packages (from tensorflow<3,>=2.11.0->tensorflow-serving-api==2.11.0) (24.2)\n",
      "Requirement already satisfied: setuptools in /home/jgrau/anaconda3/envs/python3.10/lib/python3.10/site-packages (from tensorflow<3,>=2.11.0->tensorflow-serving-api==2.11.0) (75.1.0)\n",
      "Requirement already satisfied: tensorboard<2.12,>=2.11 in /home/jgrau/anaconda3/envs/python3.10/lib/python3.10/site-packages (from tensorflow<3,>=2.11.0->tensorflow-serving-api==2.11.0) (2.11.2)\n",
      "Requirement already satisfied: tensorflow-estimator<2.12,>=2.11.0 in /home/jgrau/anaconda3/envs/python3.10/lib/python3.10/site-packages (from tensorflow<3,>=2.11.0->tensorflow-serving-api==2.11.0) (2.11.0)\n",
      "Requirement already satisfied: termcolor>=1.1.0 in /home/jgrau/anaconda3/envs/python3.10/lib/python3.10/site-packages (from tensorflow<3,>=2.11.0->tensorflow-serving-api==2.11.0) (2.1.0)\n",
      "Requirement already satisfied: typing-extensions>=3.6.6 in /home/jgrau/anaconda3/envs/python3.10/lib/python3.10/site-packages (from tensorflow<3,>=2.11.0->tensorflow-serving-api==2.11.0) (4.12.2)\n",
      "Requirement already satisfied: wrapt>=1.11.0 in /home/jgrau/anaconda3/envs/python3.10/lib/python3.10/site-packages (from tensorflow<3,>=2.11.0->tensorflow-serving-api==2.11.0) (1.14.1)\n",
      "Requirement already satisfied: tensorflow-io-gcs-filesystem>=0.23.1 in /home/jgrau/anaconda3/envs/python3.10/lib/python3.10/site-packages (from tensorflow<3,>=2.11.0->tensorflow-serving-api==2.11.0) (0.37.1)\n",
      "Requirement already satisfied: wheel<1.0,>=0.23.0 in /home/jgrau/anaconda3/envs/python3.10/lib/python3.10/site-packages (from astunparse>=1.6.0->tensorflow<3,>=2.11.0->tensorflow-serving-api==2.11.0) (0.44.0)\n",
      "Requirement already satisfied: google-auth<3,>=1.6.3 in /home/jgrau/anaconda3/envs/python3.10/lib/python3.10/site-packages (from tensorboard<2.12,>=2.11->tensorflow<3,>=2.11.0->tensorflow-serving-api==2.11.0) (2.37.0)\n",
      "Requirement already satisfied: google-auth-oauthlib<0.5,>=0.4.1 in /home/jgrau/anaconda3/envs/python3.10/lib/python3.10/site-packages (from tensorboard<2.12,>=2.11->tensorflow<3,>=2.11.0->tensorflow-serving-api==2.11.0) (0.4.6)\n",
      "Requirement already satisfied: markdown>=2.6.8 in /home/jgrau/anaconda3/envs/python3.10/lib/python3.10/site-packages (from tensorboard<2.12,>=2.11->tensorflow<3,>=2.11.0->tensorflow-serving-api==2.11.0) (3.4.1)\n",
      "Requirement already satisfied: requests<3,>=2.21.0 in /home/jgrau/anaconda3/envs/python3.10/lib/python3.10/site-packages (from tensorboard<2.12,>=2.11->tensorflow<3,>=2.11.0->tensorflow-serving-api==2.11.0) (2.32.3)\n",
      "Requirement already satisfied: tensorboard-data-server<0.7.0,>=0.6.0 in /home/jgrau/anaconda3/envs/python3.10/lib/python3.10/site-packages (from tensorboard<2.12,>=2.11->tensorflow<3,>=2.11.0->tensorflow-serving-api==2.11.0) (0.6.1)\n",
      "Requirement already satisfied: tensorboard-plugin-wit>=1.6.0 in /home/jgrau/anaconda3/envs/python3.10/lib/python3.10/site-packages (from tensorboard<2.12,>=2.11->tensorflow<3,>=2.11.0->tensorflow-serving-api==2.11.0) (1.8.1)\n",
      "Requirement already satisfied: werkzeug>=1.0.1 in /home/jgrau/anaconda3/envs/python3.10/lib/python3.10/site-packages (from tensorboard<2.12,>=2.11->tensorflow<3,>=2.11.0->tensorflow-serving-api==2.11.0) (3.1.3)\n",
      "Requirement already satisfied: cachetools<6.0,>=2.0.0 in /home/jgrau/anaconda3/envs/python3.10/lib/python3.10/site-packages (from google-auth<3,>=1.6.3->tensorboard<2.12,>=2.11->tensorflow<3,>=2.11.0->tensorflow-serving-api==2.11.0) (5.5.0)\n",
      "Requirement already satisfied: pyasn1-modules>=0.2.1 in /home/jgrau/anaconda3/envs/python3.10/lib/python3.10/site-packages (from google-auth<3,>=1.6.3->tensorboard<2.12,>=2.11->tensorflow<3,>=2.11.0->tensorflow-serving-api==2.11.0) (0.4.1)\n",
      "Requirement already satisfied: rsa<5,>=3.1.4 in /home/jgrau/anaconda3/envs/python3.10/lib/python3.10/site-packages (from google-auth<3,>=1.6.3->tensorboard<2.12,>=2.11->tensorflow<3,>=2.11.0->tensorflow-serving-api==2.11.0) (4.7.2)\n",
      "Requirement already satisfied: requests-oauthlib>=0.7.0 in /home/jgrau/anaconda3/envs/python3.10/lib/python3.10/site-packages (from google-auth-oauthlib<0.5,>=0.4.1->tensorboard<2.12,>=2.11->tensorflow<3,>=2.11.0->tensorflow-serving-api==2.11.0) (2.0.0)\n",
      "Requirement already satisfied: charset-normalizer<4,>=2 in /home/jgrau/anaconda3/envs/python3.10/lib/python3.10/site-packages (from requests<3,>=2.21.0->tensorboard<2.12,>=2.11->tensorflow<3,>=2.11.0->tensorflow-serving-api==2.11.0) (3.3.2)\n",
      "Requirement already satisfied: idna<4,>=2.5 in /home/jgrau/anaconda3/envs/python3.10/lib/python3.10/site-packages (from requests<3,>=2.21.0->tensorboard<2.12,>=2.11->tensorflow<3,>=2.11.0->tensorflow-serving-api==2.11.0) (3.7)\n",
      "Requirement already satisfied: urllib3<3,>=1.21.1 in /home/jgrau/anaconda3/envs/python3.10/lib/python3.10/site-packages (from requests<3,>=2.21.0->tensorboard<2.12,>=2.11->tensorflow<3,>=2.11.0->tensorflow-serving-api==2.11.0) (2.2.3)\n",
      "Requirement already satisfied: certifi>=2017.4.17 in /home/jgrau/anaconda3/envs/python3.10/lib/python3.10/site-packages (from requests<3,>=2.21.0->tensorboard<2.12,>=2.11->tensorflow<3,>=2.11.0->tensorflow-serving-api==2.11.0) (2024.12.14)\n",
      "Requirement already satisfied: MarkupSafe>=2.1.1 in /home/jgrau/anaconda3/envs/python3.10/lib/python3.10/site-packages (from werkzeug>=1.0.1->tensorboard<2.12,>=2.11->tensorflow<3,>=2.11.0->tensorflow-serving-api==2.11.0) (2.1.3)\n",
      "Requirement already satisfied: pyasn1<0.7.0,>=0.4.6 in /home/jgrau/anaconda3/envs/python3.10/lib/python3.10/site-packages (from pyasn1-modules>=0.2.1->google-auth<3,>=1.6.3->tensorboard<2.12,>=2.11->tensorflow<3,>=2.11.0->tensorflow-serving-api==2.11.0) (0.6.1)\n",
      "Requirement already satisfied: oauthlib>=3.0.0 in /home/jgrau/anaconda3/envs/python3.10/lib/python3.10/site-packages (from requests-oauthlib>=0.7.0->google-auth-oauthlib<0.5,>=0.4.1->tensorboard<2.12,>=2.11->tensorflow<3,>=2.11.0->tensorflow-serving-api==2.11.0) (3.2.2)\n",
      "Downloading grpcio-1.43.0-cp310-cp310-manylinux_2_17_x86_64.manylinux2014_x86_64.whl (4.1 MB)\n",
      "\u001b[2K   \u001b[90m━━━━━━━━━━━━━━━━━━━━━━━━━━━━━━━━━━━━━━━━\u001b[0m \u001b[32m4.1/4.1 MB\u001b[0m \u001b[31m6.0 MB/s\u001b[0m eta \u001b[36m0:00:00\u001b[0ma \u001b[36m0:00:01\u001b[0m\n",
      "\u001b[?25hDownloading tensorflow_serving_api-2.11.0-py2.py3-none-any.whl (37 kB)\n",
      "Installing collected packages: grpcio, tensorflow-serving-api\n",
      "  Attempting uninstall: grpcio\n",
      "    Found existing installation: grpcio 1.42.0\n",
      "    Uninstalling grpcio-1.42.0:\n",
      "      Successfully uninstalled grpcio-1.42.0\n",
      "  Attempting uninstall: tensorflow-serving-api\n",
      "    Found existing installation: tensorflow-serving-api 2.7.0\n",
      "    Uninstalling tensorflow-serving-api-2.7.0:\n",
      "      Successfully uninstalled tensorflow-serving-api-2.7.0\n",
      "Successfully installed grpcio-1.43.0 tensorflow-serving-api-2.11.0\n"
     ]
    }
   ],
   "source": [
    "!pip install grpcio==1.43.0 tensorflow-serving-api==2.17.0"
   ]
  },
  {
   "cell_type": "code",
   "execution_count": 23,
   "metadata": {},
   "outputs": [
    {
     "name": "stdout",
     "output_type": "stream",
     "text": [
      "Requirement already satisfied: keras-image-helper in /home/jgrau/anaconda3/envs/python3.10/lib/python3.10/site-packages (0.0.1)\n",
      "Requirement already satisfied: numpy in /home/jgrau/anaconda3/envs/python3.10/lib/python3.10/site-packages (from keras-image-helper) (1.26.4)\n",
      "Requirement already satisfied: pillow in /home/jgrau/anaconda3/envs/python3.10/lib/python3.10/site-packages (from keras-image-helper) (11.0.0)\n"
     ]
    }
   ],
   "source": [
    "!pip install keras-image-helper"
   ]
  },
  {
   "cell_type": "code",
   "execution_count": 21,
   "metadata": {},
   "outputs": [],
   "source": [
    "import grpc\n",
    "import tensorflow as tf\n",
    "from tensorflow_serving.apis import predict_pb2\n",
    "from tensorflow_serving.apis import prediction_service_pb2_grpc"
   ]
  },
  {
   "cell_type": "code",
   "execution_count": 22,
   "metadata": {},
   "outputs": [],
   "source": [
    "host = 'localhost:8500'\n",
    "\n",
    "channel = grpc.insecure_channel(host)\n",
    "\n",
    "stub = prediction_service_pb2_grpc.PredictionServiceStub(channel)"
   ]
  },
  {
   "cell_type": "code",
   "execution_count": 23,
   "metadata": {},
   "outputs": [],
   "source": [
    "from keras_image_helper import create_preprocessor"
   ]
  },
  {
   "cell_type": "code",
   "execution_count": 14,
   "metadata": {},
   "outputs": [],
   "source": [
    "preprocessor = create_preprocessor('xception', target_size=(150, 150))"
   ]
  },
  {
   "cell_type": "code",
   "execution_count": 24,
   "metadata": {},
   "outputs": [],
   "source": [
    "url = 'https://github.com/juangrau/ML-Capstone-Project-1/blob/main/AnnualCrop_1000.jpg?raw=true'\n",
    "X = preprocessor.from_url(url)"
   ]
  },
  {
   "cell_type": "code",
   "execution_count": 25,
   "metadata": {},
   "outputs": [],
   "source": [
    "def np_to_protobuf(data):\n",
    "    return tf.make_tensor_proto(data, shape=data.shape)"
   ]
  },
  {
   "cell_type": "code",
   "execution_count": 26,
   "metadata": {},
   "outputs": [],
   "source": [
    "pb_request = predict_pb2.PredictRequest()\n",
    "\n",
    "'''\n",
    "Now we use the information we got from the tensorflow cli:\n",
    "\n",
    "serving_default -> signature name\n",
    "inputs  -> Input\n",
    "output_0 -> output\n",
    "'''\n",
    "\n",
    "\n",
    "pb_request.model_spec.name = 'terrain_model'\n",
    "pb_request.model_spec.signature_name = 'serving_default'\n",
    "\n",
    "pb_request.inputs['inputs'].CopyFrom(np_to_protobuf(X))\n"
   ]
  },
  {
   "cell_type": "code",
   "execution_count": 27,
   "metadata": {
    "scrolled": true
   },
   "outputs": [
    {
     "ename": "_InactiveRpcError",
     "evalue": "<_InactiveRpcError of RPC that terminated with:\n\tstatus = StatusCode.FAILED_PRECONDITION\n\tdetails = \"Could not find variable dense_1/kernel. This could mean that the variable has been deleted. In TF1, it can also mean the variable is uninitialized. Debug info: container=localhost, status error message=Resource localhost/dense_1/kernel/N10tensorflow3VarE does not exist.\n\t [[{{function_node __inference_serving_default_1383}}{{node sequential_1/dense_1_2/Cast/ReadVariableOp}}]]\"\n\tdebug_error_string = \"UNKNOWN:Error received from peer ipv4:127.0.0.1:8500 {created_time:\"2025-01-09T17:51:44.748723922-04:00\", grpc_status:9, grpc_message:\"Could not find variable dense_1/kernel. This could mean that the variable has been deleted. In TF1, it can also mean the variable is uninitialized. Debug info: container=localhost, status error message=Resource localhost/dense_1/kernel/N10tensorflow3VarE does not exist.\\n\\t [[{{function_node __inference_serving_default_1383}}{{node sequential_1/dense_1_2/Cast/ReadVariableOp}}]]\"}\"\n>",
     "output_type": "error",
     "traceback": [
      "\u001b[0;31m---------------------------------------------------------------------------\u001b[0m",
      "\u001b[0;31m_InactiveRpcError\u001b[0m                         Traceback (most recent call last)",
      "Cell \u001b[0;32mIn[27], line 1\u001b[0m\n\u001b[0;32m----> 1\u001b[0m pb_response \u001b[38;5;241m=\u001b[39m \u001b[43mstub\u001b[49m\u001b[38;5;241;43m.\u001b[39;49m\u001b[43mPredict\u001b[49m\u001b[43m(\u001b[49m\u001b[43mpb_request\u001b[49m\u001b[43m,\u001b[49m\u001b[43m \u001b[49m\u001b[43mtimeout\u001b[49m\u001b[38;5;241;43m=\u001b[39;49m\u001b[38;5;241;43m20.0\u001b[39;49m\u001b[43m)\u001b[49m\n",
      "File \u001b[0;32m~/anaconda3/envs/python3.10/lib/python3.10/site-packages/grpc/_channel.py:1181\u001b[0m, in \u001b[0;36m_UnaryUnaryMultiCallable.__call__\u001b[0;34m(self, request, timeout, metadata, credentials, wait_for_ready, compression)\u001b[0m\n\u001b[1;32m   1166\u001b[0m \u001b[38;5;28;01mdef\u001b[39;00m \u001b[38;5;21m__call__\u001b[39m(\n\u001b[1;32m   1167\u001b[0m     \u001b[38;5;28mself\u001b[39m,\n\u001b[1;32m   1168\u001b[0m     request: Any,\n\u001b[0;32m   (...)\u001b[0m\n\u001b[1;32m   1173\u001b[0m     compression: Optional[grpc\u001b[38;5;241m.\u001b[39mCompression] \u001b[38;5;241m=\u001b[39m \u001b[38;5;28;01mNone\u001b[39;00m,\n\u001b[1;32m   1174\u001b[0m ) \u001b[38;5;241m-\u001b[39m\u001b[38;5;241m>\u001b[39m Any:\n\u001b[1;32m   1175\u001b[0m     (\n\u001b[1;32m   1176\u001b[0m         state,\n\u001b[1;32m   1177\u001b[0m         call,\n\u001b[1;32m   1178\u001b[0m     ) \u001b[38;5;241m=\u001b[39m \u001b[38;5;28mself\u001b[39m\u001b[38;5;241m.\u001b[39m_blocking(\n\u001b[1;32m   1179\u001b[0m         request, timeout, metadata, credentials, wait_for_ready, compression\n\u001b[1;32m   1180\u001b[0m     )\n\u001b[0;32m-> 1181\u001b[0m     \u001b[38;5;28;01mreturn\u001b[39;00m \u001b[43m_end_unary_response_blocking\u001b[49m\u001b[43m(\u001b[49m\u001b[43mstate\u001b[49m\u001b[43m,\u001b[49m\u001b[43m \u001b[49m\u001b[43mcall\u001b[49m\u001b[43m,\u001b[49m\u001b[43m \u001b[49m\u001b[38;5;28;43;01mFalse\u001b[39;49;00m\u001b[43m,\u001b[49m\u001b[43m \u001b[49m\u001b[38;5;28;43;01mNone\u001b[39;49;00m\u001b[43m)\u001b[49m\n",
      "File \u001b[0;32m~/anaconda3/envs/python3.10/lib/python3.10/site-packages/grpc/_channel.py:1006\u001b[0m, in \u001b[0;36m_end_unary_response_blocking\u001b[0;34m(state, call, with_call, deadline)\u001b[0m\n\u001b[1;32m   1004\u001b[0m         \u001b[38;5;28;01mreturn\u001b[39;00m state\u001b[38;5;241m.\u001b[39mresponse\n\u001b[1;32m   1005\u001b[0m \u001b[38;5;28;01melse\u001b[39;00m:\n\u001b[0;32m-> 1006\u001b[0m     \u001b[38;5;28;01mraise\u001b[39;00m _InactiveRpcError(state)\n",
      "\u001b[0;31m_InactiveRpcError\u001b[0m: <_InactiveRpcError of RPC that terminated with:\n\tstatus = StatusCode.FAILED_PRECONDITION\n\tdetails = \"Could not find variable dense_1/kernel. This could mean that the variable has been deleted. In TF1, it can also mean the variable is uninitialized. Debug info: container=localhost, status error message=Resource localhost/dense_1/kernel/N10tensorflow3VarE does not exist.\n\t [[{{function_node __inference_serving_default_1383}}{{node sequential_1/dense_1_2/Cast/ReadVariableOp}}]]\"\n\tdebug_error_string = \"UNKNOWN:Error received from peer ipv4:127.0.0.1:8500 {created_time:\"2025-01-09T17:51:44.748723922-04:00\", grpc_status:9, grpc_message:\"Could not find variable dense_1/kernel. This could mean that the variable has been deleted. In TF1, it can also mean the variable is uninitialized. Debug info: container=localhost, status error message=Resource localhost/dense_1/kernel/N10tensorflow3VarE does not exist.\\n\\t [[{{function_node __inference_serving_default_1383}}{{node sequential_1/dense_1_2/Cast/ReadVariableOp}}]]\"}\"\n>"
     ]
    }
   ],
   "source": [
    "pb_response = stub.Predict(pb_request, timeout=20.0)"
   ]
  },
  {
   "cell_type": "code",
   "execution_count": 29,
   "metadata": {},
   "outputs": [
    {
     "data": {
      "text/plain": [
       "'2.17.0'"
      ]
     },
     "execution_count": 29,
     "metadata": {},
     "output_type": "execute_result"
    }
   ],
   "source": [
    "tf.__version__"
   ]
  },
  {
   "cell_type": "code",
   "execution_count": 28,
   "metadata": {},
   "outputs": [
    {
     "ename": "_InactiveRpcError",
     "evalue": "<_InactiveRpcError of RPC that terminated with:\n\tstatus = StatusCode.FAILED_PRECONDITION\n\tdetails = \"Could not find variable dense/bias. This could mean that the variable has been deleted. In TF1, it can also mean the variable is uninitialized. Debug info: container=localhost, status error message=Resource localhost/dense/bias/N10tensorflow3VarE does not exist.\n\t [[{{function_node __inference_serving_default_1383}}{{node sequential_1/dense_1/BiasAdd/ReadVariableOp}}]]\"\n\tdebug_error_string = \"UNKNOWN:Error received from peer ipv4:127.0.0.1:8500 {created_time:\"2025-01-09T18:00:35.854463847-04:00\", grpc_status:9, grpc_message:\"Could not find variable dense/bias. This could mean that the variable has been deleted. In TF1, it can also mean the variable is uninitialized. Debug info: container=localhost, status error message=Resource localhost/dense/bias/N10tensorflow3VarE does not exist.\\n\\t [[{{function_node __inference_serving_default_1383}}{{node sequential_1/dense_1/BiasAdd/ReadVariableOp}}]]\"}\"\n>",
     "output_type": "error",
     "traceback": [
      "\u001b[0;31m---------------------------------------------------------------------------\u001b[0m",
      "\u001b[0;31m_InactiveRpcError\u001b[0m                         Traceback (most recent call last)",
      "Cell \u001b[0;32mIn[28], line 16\u001b[0m\n\u001b[1;32m     13\u001b[0m pb_request\u001b[38;5;241m.\u001b[39minputs[\u001b[38;5;124m'\u001b[39m\u001b[38;5;124minputs\u001b[39m\u001b[38;5;124m'\u001b[39m]\u001b[38;5;241m.\u001b[39mCopyFrom(np_to_protobuf(X))\n\u001b[1;32m     15\u001b[0m \u001b[38;5;66;03m# Make the gRPC call\u001b[39;00m\n\u001b[0;32m---> 16\u001b[0m a_pb_response \u001b[38;5;241m=\u001b[39m \u001b[43mstub\u001b[49m\u001b[38;5;241;43m.\u001b[39;49m\u001b[43mPredict\u001b[49m\u001b[43m(\u001b[49m\u001b[43mpb_request\u001b[49m\u001b[43m,\u001b[49m\u001b[43m \u001b[49m\u001b[43mtimeout\u001b[49m\u001b[38;5;241;43m=\u001b[39;49m\u001b[38;5;241;43m20.0\u001b[39;49m\u001b[43m)\u001b[49m\n\u001b[1;32m     18\u001b[0m \u001b[38;5;66;03m# Process the response\u001b[39;00m\n\u001b[1;32m     19\u001b[0m \u001b[38;5;28mprint\u001b[39m(a_pb_response)\n",
      "File \u001b[0;32m~/anaconda3/envs/python3.10/lib/python3.10/site-packages/grpc/_channel.py:1181\u001b[0m, in \u001b[0;36m_UnaryUnaryMultiCallable.__call__\u001b[0;34m(self, request, timeout, metadata, credentials, wait_for_ready, compression)\u001b[0m\n\u001b[1;32m   1166\u001b[0m \u001b[38;5;28;01mdef\u001b[39;00m \u001b[38;5;21m__call__\u001b[39m(\n\u001b[1;32m   1167\u001b[0m     \u001b[38;5;28mself\u001b[39m,\n\u001b[1;32m   1168\u001b[0m     request: Any,\n\u001b[0;32m   (...)\u001b[0m\n\u001b[1;32m   1173\u001b[0m     compression: Optional[grpc\u001b[38;5;241m.\u001b[39mCompression] \u001b[38;5;241m=\u001b[39m \u001b[38;5;28;01mNone\u001b[39;00m,\n\u001b[1;32m   1174\u001b[0m ) \u001b[38;5;241m-\u001b[39m\u001b[38;5;241m>\u001b[39m Any:\n\u001b[1;32m   1175\u001b[0m     (\n\u001b[1;32m   1176\u001b[0m         state,\n\u001b[1;32m   1177\u001b[0m         call,\n\u001b[1;32m   1178\u001b[0m     ) \u001b[38;5;241m=\u001b[39m \u001b[38;5;28mself\u001b[39m\u001b[38;5;241m.\u001b[39m_blocking(\n\u001b[1;32m   1179\u001b[0m         request, timeout, metadata, credentials, wait_for_ready, compression\n\u001b[1;32m   1180\u001b[0m     )\n\u001b[0;32m-> 1181\u001b[0m     \u001b[38;5;28;01mreturn\u001b[39;00m \u001b[43m_end_unary_response_blocking\u001b[49m\u001b[43m(\u001b[49m\u001b[43mstate\u001b[49m\u001b[43m,\u001b[49m\u001b[43m \u001b[49m\u001b[43mcall\u001b[49m\u001b[43m,\u001b[49m\u001b[43m \u001b[49m\u001b[38;5;28;43;01mFalse\u001b[39;49;00m\u001b[43m,\u001b[49m\u001b[43m \u001b[49m\u001b[38;5;28;43;01mNone\u001b[39;49;00m\u001b[43m)\u001b[49m\n",
      "File \u001b[0;32m~/anaconda3/envs/python3.10/lib/python3.10/site-packages/grpc/_channel.py:1006\u001b[0m, in \u001b[0;36m_end_unary_response_blocking\u001b[0;34m(state, call, with_call, deadline)\u001b[0m\n\u001b[1;32m   1004\u001b[0m         \u001b[38;5;28;01mreturn\u001b[39;00m state\u001b[38;5;241m.\u001b[39mresponse\n\u001b[1;32m   1005\u001b[0m \u001b[38;5;28;01melse\u001b[39;00m:\n\u001b[0;32m-> 1006\u001b[0m     \u001b[38;5;28;01mraise\u001b[39;00m _InactiveRpcError(state)\n",
      "\u001b[0;31m_InactiveRpcError\u001b[0m: <_InactiveRpcError of RPC that terminated with:\n\tstatus = StatusCode.FAILED_PRECONDITION\n\tdetails = \"Could not find variable dense/bias. This could mean that the variable has been deleted. In TF1, it can also mean the variable is uninitialized. Debug info: container=localhost, status error message=Resource localhost/dense/bias/N10tensorflow3VarE does not exist.\n\t [[{{function_node __inference_serving_default_1383}}{{node sequential_1/dense_1/BiasAdd/ReadVariableOp}}]]\"\n\tdebug_error_string = \"UNKNOWN:Error received from peer ipv4:127.0.0.1:8500 {created_time:\"2025-01-09T18:00:35.854463847-04:00\", grpc_status:9, grpc_message:\"Could not find variable dense/bias. This could mean that the variable has been deleted. In TF1, it can also mean the variable is uninitialized. Debug info: container=localhost, status error message=Resource localhost/dense/bias/N10tensorflow3VarE does not exist.\\n\\t [[{{function_node __inference_serving_default_1383}}{{node sequential_1/dense_1/BiasAdd/ReadVariableOp}}]]\"}\"\n>"
     ]
    }
   ],
   "source": [
    "import grpc\n",
    "from tensorflow_serving.apis import predict_pb2\n",
    "from tensorflow_serving.apis import prediction_service_pb2_grpc\n",
    "\n",
    "# Create a gRPC channel\n",
    "channel = grpc.insecure_channel('localhost:8500')\n",
    "stub = prediction_service_pb2_grpc.PredictionServiceStub(channel)\n",
    "\n",
    "# Create a prediction request\n",
    "pb_request = predict_pb2.PredictRequest()\n",
    "pb_request.model_spec.name = 'terrain_model'\n",
    "pb_request.model_spec.signature_name = 'serving_default'\n",
    "pb_request.inputs['inputs'].CopyFrom(np_to_protobuf(X))\n",
    "\n",
    "# Make the gRPC call\n",
    "a_pb_response = stub.Predict(pb_request, timeout=20.0)\n",
    "\n",
    "# Process the response\n",
    "print(a_pb_response)"
   ]
  }
 ],
 "metadata": {
  "kernelspec": {
   "display_name": "Python (python3.10)",
   "language": "python",
   "name": "python3.10"
  },
  "language_info": {
   "codemirror_mode": {
    "name": "ipython",
    "version": 3
   },
   "file_extension": ".py",
   "mimetype": "text/x-python",
   "name": "python",
   "nbconvert_exporter": "python",
   "pygments_lexer": "ipython3",
   "version": "3.10.12"
  }
 },
 "nbformat": 4,
 "nbformat_minor": 4
}
