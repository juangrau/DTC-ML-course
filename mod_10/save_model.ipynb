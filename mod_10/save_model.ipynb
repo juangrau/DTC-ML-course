{
 "cells": [
  {
   "cell_type": "code",
   "execution_count": 8,
   "id": "b7d818cb-aef0-491f-af20-96fb0e67502d",
   "metadata": {},
   "outputs": [],
   "source": [
    "import tensorflow as tf\n",
    "from tensorflow import keras"
   ]
  },
  {
   "cell_type": "code",
   "execution_count": 9,
   "id": "59af56d4-e3f2-4455-9fb0-4ef0d546d434",
   "metadata": {},
   "outputs": [
    {
     "data": {
      "text/plain": [
       "'2.17.0'"
      ]
     },
     "execution_count": 9,
     "metadata": {},
     "output_type": "execute_result"
    }
   ],
   "source": [
    "tf.__version__"
   ]
  },
  {
   "cell_type": "code",
   "execution_count": 10,
   "id": "baba0a19-cc9a-496b-811f-0ba0c9376bd2",
   "metadata": {},
   "outputs": [],
   "source": [
    "model = keras.models.load_model('./terrain_model.h5.keras')"
   ]
  },
  {
   "cell_type": "code",
   "execution_count": 16,
   "id": "b8e63274-d6eb-466b-acc9-2f168084e749",
   "metadata": {
    "scrolled": true
   },
   "outputs": [
    {
     "name": "stdout",
     "output_type": "stream",
     "text": [
      "INFO:tensorflow:Assets written to: terrainmodel/assets\n"
     ]
    },
    {
     "name": "stderr",
     "output_type": "stream",
     "text": [
      "INFO:tensorflow:Assets written to: terrainmodel/assets\n"
     ]
    }
   ],
   "source": [
    "tf.saved_model.save(model, 'terrainmodel')"
   ]
  },
  {
   "cell_type": "code",
   "execution_count": 19,
   "id": "f544a328-5ef7-4885-9544-01c201c3b15a",
   "metadata": {},
   "outputs": [
    {
     "name": "stdout",
     "output_type": "stream",
     "text": [
      "Variable 'dense_1/kernel' exists and has shape: (3, 3, 64, 128)\n"
     ]
    }
   ],
   "source": [
    "try:\n",
    "  kernel = model.get_layer(\"conv2d_4\").kernel\n",
    "  print(\"Variable 'dense_1/kernel' exists and has shape:\", kernel.shape)\n",
    "except AttributeError:\n",
    "  print(\"Variable 'dense_1/kernel' not found in the model.\")"
   ]
  },
  {
   "cell_type": "code",
   "execution_count": 17,
   "id": "ea232949-ff64-4957-8c7e-73fea73bb1c7",
   "metadata": {},
   "outputs": [
    {
     "name": "stdout",
     "output_type": "stream",
     "text": [
      "\u001b[34;42mterrainmodel\u001b[0m\n",
      "├── \u001b[34;42massets\u001b[0m\n",
      "├── \u001b[01;32mfingerprint.pb\u001b[0m\n",
      "├── \u001b[01;32msaved_model.pb\u001b[0m\n",
      "└── \u001b[34;42mvariables\u001b[0m\n",
      "    ├── \u001b[01;32mvariables.data-00000-of-00001\u001b[0m\n",
      "    └── \u001b[01;32mvariables.index\u001b[0m\n",
      "\n",
      "3 directories, 4 files\n"
     ]
    }
   ],
   "source": [
    "!tree terrainmodel"
   ]
  },
  {
   "cell_type": "code",
   "execution_count": null,
   "id": "b6c98da5-5e72-4340-802c-8fc00e2b7845",
   "metadata": {},
   "outputs": [],
   "source": []
  }
 ],
 "metadata": {
  "kernelspec": {
   "display_name": "Python (python3.10)",
   "language": "python",
   "name": "python3.10"
  },
  "language_info": {
   "codemirror_mode": {
    "name": "ipython",
    "version": 3
   },
   "file_extension": ".py",
   "mimetype": "text/x-python",
   "name": "python",
   "nbconvert_exporter": "python",
   "pygments_lexer": "ipython3",
   "version": "3.10.12"
  }
 },
 "nbformat": 4,
 "nbformat_minor": 5
}
