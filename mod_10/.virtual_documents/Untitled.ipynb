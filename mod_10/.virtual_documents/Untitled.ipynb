import tensorflow as tf
from tensorflow import keras


tf.__version__


model = keras.models.load_model('./terrain_model.h5.keras')


model.save('terrainmodel.keras')


model = keras.models.load_model('./terrainmodel.keras')


tf.saved_model.save(model, 'terrainmodel')





!tree terrainmodel



