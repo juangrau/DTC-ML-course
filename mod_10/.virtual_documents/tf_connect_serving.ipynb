


!pip install grpcio==1.49.1 tensorflow-serving-api==2.17.0


!pip install keras-image-helper


import grpc
import tensorflow as tf
from tensorflow_serving.apis import predict_pb2
from tensorflow_serving.apis import prediction_service_pb2_grpc


host = 'localhost:8500'

channel = grpc.insecure_channel(host)

stub = prediction_service_pb2_grpc.PredictionServiceStub(channel)


from keras_image_helper import create_preprocessor


preprocessor = create_preprocessor('xception', target_size=(150, 150))


url = 'https://github.com/juangrau/ML-Capstone-Project-1/blob/main/AnnualCrop_1000.jpg?raw=true'
X = preprocessor.from_url(url)


def np_to_protobuf(data):
    return tf.make_tensor_proto(data, shape=data.shape)


pb_request = predict_pb2.PredictRequest()

'''
Now we use the information we got from the tensorflow cli:

serving_default -> signature name
inputs  -> Input
output_0 -> output
'''


pb_request.model_spec.name = 'terrainmodel'
pb_request.model_spec.signature_name = 'serving_default'

pb_request.inputs['inputs'].CopyFrom(np_to_protobuf(X))



pb_response = stub.Predict(pb_request, timeout=20.0)


tf.__version__


import grpc
from tensorflow_serving.apis import predict_pb2
from tensorflow_serving.apis import prediction_service_pb2_grpc

# Create a gRPC channel
channel = grpc.insecure_channel('localhost:8500')
stub = prediction_service_pb2_grpc.PredictionServiceStub(channel)

# Create a prediction request
pb_request = predict_pb2.PredictRequest()
pb_request.model_spec.name = 'terrainmodel'
pb_request.model_spec.signature_name = 'serving_default'
pb_request.inputs['inputs'].CopyFrom(np_to_protobuf(X))

# Make the gRPC call
a_pb_response = stub.Predict(pb_request, timeout=20.0)

# Process the response
print(a_pb_response)


try:
  kernel = model.get_layer("dense_1").kernel
  print("Variable 'dense_1/kernel' exists and has shape:", kernel.shape)
except AttributeError:
  print("Variable 'dense_1/kernel' not found in the model.")
